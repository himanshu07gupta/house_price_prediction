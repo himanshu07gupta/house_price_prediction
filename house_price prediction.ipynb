{
 "cells": [
  {
   "cell_type": "code",
   "execution_count": 1,
   "id": "cef97781",
   "metadata": {},
   "outputs": [],
   "source": [
    "import pandas as pd\n",
    "import numpy as np"
   ]
  },
  {
   "cell_type": "code",
   "execution_count": 2,
   "id": "4c306e37",
   "metadata": {},
   "outputs": [],
   "source": [
    "re= pd.read_csv(\"chicago house pred.csv\")"
   ]
  },
  {
   "cell_type": "code",
   "execution_count": 3,
   "id": "dadc4904",
   "metadata": {
    "scrolled": true
   },
   "outputs": [
    {
     "data": {
      "text/html": [
       "<div>\n",
       "<style scoped>\n",
       "    .dataframe tbody tr th:only-of-type {\n",
       "        vertical-align: middle;\n",
       "    }\n",
       "\n",
       "    .dataframe tbody tr th {\n",
       "        vertical-align: top;\n",
       "    }\n",
       "\n",
       "    .dataframe thead th {\n",
       "        text-align: right;\n",
       "    }\n",
       "</style>\n",
       "<table border=\"1\" class=\"dataframe\">\n",
       "  <thead>\n",
       "    <tr style=\"text-align: right;\">\n",
       "      <th></th>\n",
       "      <th>Price</th>\n",
       "      <th>Bedroom</th>\n",
       "      <th>Space</th>\n",
       "      <th>Room</th>\n",
       "      <th>Lot</th>\n",
       "      <th>Tax</th>\n",
       "      <th>Bathroom</th>\n",
       "      <th>Garage</th>\n",
       "      <th>Condition</th>\n",
       "    </tr>\n",
       "  </thead>\n",
       "  <tbody>\n",
       "    <tr>\n",
       "      <th>0</th>\n",
       "      <td>53.0</td>\n",
       "      <td>2.0</td>\n",
       "      <td>967.0</td>\n",
       "      <td>5.0</td>\n",
       "      <td>39.0</td>\n",
       "      <td>652.0</td>\n",
       "      <td>1.5</td>\n",
       "      <td>0.0</td>\n",
       "      <td>0.0</td>\n",
       "    </tr>\n",
       "    <tr>\n",
       "      <th>1</th>\n",
       "      <td>55.0</td>\n",
       "      <td>2.0</td>\n",
       "      <td>815.0</td>\n",
       "      <td>5.0</td>\n",
       "      <td>33.0</td>\n",
       "      <td>1000.0</td>\n",
       "      <td>1.0</td>\n",
       "      <td>2.0</td>\n",
       "      <td>1.0</td>\n",
       "    </tr>\n",
       "    <tr>\n",
       "      <th>2</th>\n",
       "      <td>56.0</td>\n",
       "      <td>3.0</td>\n",
       "      <td>900.0</td>\n",
       "      <td>5.0</td>\n",
       "      <td>35.0</td>\n",
       "      <td>897.0</td>\n",
       "      <td>1.5</td>\n",
       "      <td>1.0</td>\n",
       "      <td>0.0</td>\n",
       "    </tr>\n",
       "    <tr>\n",
       "      <th>3</th>\n",
       "      <td>58.0</td>\n",
       "      <td>3.0</td>\n",
       "      <td>1007.0</td>\n",
       "      <td>6.0</td>\n",
       "      <td>24.0</td>\n",
       "      <td>964.0</td>\n",
       "      <td>1.5</td>\n",
       "      <td>2.0</td>\n",
       "      <td>0.0</td>\n",
       "    </tr>\n",
       "    <tr>\n",
       "      <th>4</th>\n",
       "      <td>64.0</td>\n",
       "      <td>3.0</td>\n",
       "      <td>1100.0</td>\n",
       "      <td>7.0</td>\n",
       "      <td>50.0</td>\n",
       "      <td>1099.0</td>\n",
       "      <td>1.5</td>\n",
       "      <td>1.5</td>\n",
       "      <td>0.0</td>\n",
       "    </tr>\n",
       "  </tbody>\n",
       "</table>\n",
       "</div>"
      ],
      "text/plain": [
       "   Price  Bedroom   Space  Room   Lot     Tax  Bathroom  Garage  Condition\n",
       "0   53.0      2.0   967.0   5.0  39.0   652.0       1.5     0.0        0.0\n",
       "1   55.0      2.0   815.0   5.0  33.0  1000.0       1.0     2.0        1.0\n",
       "2   56.0      3.0   900.0   5.0  35.0   897.0       1.5     1.0        0.0\n",
       "3   58.0      3.0  1007.0   6.0  24.0   964.0       1.5     2.0        0.0\n",
       "4   64.0      3.0  1100.0   7.0  50.0  1099.0       1.5     1.5        0.0"
      ]
     },
     "execution_count": 3,
     "metadata": {},
     "output_type": "execute_result"
    }
   ],
   "source": [
    "re.head()"
   ]
  },
  {
   "cell_type": "code",
   "execution_count": 4,
   "id": "e950025e",
   "metadata": {},
   "outputs": [
    {
     "data": {
      "text/html": [
       "<div>\n",
       "<style scoped>\n",
       "    .dataframe tbody tr th:only-of-type {\n",
       "        vertical-align: middle;\n",
       "    }\n",
       "\n",
       "    .dataframe tbody tr th {\n",
       "        vertical-align: top;\n",
       "    }\n",
       "\n",
       "    .dataframe thead th {\n",
       "        text-align: right;\n",
       "    }\n",
       "</style>\n",
       "<table border=\"1\" class=\"dataframe\">\n",
       "  <thead>\n",
       "    <tr style=\"text-align: right;\">\n",
       "      <th></th>\n",
       "      <th>Price</th>\n",
       "      <th>Bedroom</th>\n",
       "      <th>Space</th>\n",
       "      <th>Room</th>\n",
       "      <th>Lot</th>\n",
       "      <th>Tax</th>\n",
       "      <th>Bathroom</th>\n",
       "      <th>Garage</th>\n",
       "      <th>Condition</th>\n",
       "    </tr>\n",
       "  </thead>\n",
       "  <tbody>\n",
       "    <tr>\n",
       "      <th>152</th>\n",
       "      <td>44.0</td>\n",
       "      <td>3.0</td>\n",
       "      <td>820.0</td>\n",
       "      <td>5.0</td>\n",
       "      <td>27.0</td>\n",
       "      <td>NaN</td>\n",
       "      <td>1.0</td>\n",
       "      <td>0.0</td>\n",
       "      <td>1.0</td>\n",
       "    </tr>\n",
       "    <tr>\n",
       "      <th>153</th>\n",
       "      <td>43.0</td>\n",
       "      <td>2.0</td>\n",
       "      <td>593.0</td>\n",
       "      <td>4.0</td>\n",
       "      <td>30.0</td>\n",
       "      <td>465.0</td>\n",
       "      <td>2.0</td>\n",
       "      <td>1.0</td>\n",
       "      <td>0.0</td>\n",
       "    </tr>\n",
       "    <tr>\n",
       "      <th>154</th>\n",
       "      <td>53.0</td>\n",
       "      <td>3.0</td>\n",
       "      <td>716.0</td>\n",
       "      <td>6.0</td>\n",
       "      <td>30.0</td>\n",
       "      <td>585.0</td>\n",
       "      <td>1.0</td>\n",
       "      <td>2.0</td>\n",
       "      <td>1.0</td>\n",
       "    </tr>\n",
       "    <tr>\n",
       "      <th>155</th>\n",
       "      <td>62.0</td>\n",
       "      <td>4.0</td>\n",
       "      <td>951.0</td>\n",
       "      <td>7.0</td>\n",
       "      <td>30.0</td>\n",
       "      <td>895.0</td>\n",
       "      <td>2.0</td>\n",
       "      <td>1.0</td>\n",
       "      <td>0.0</td>\n",
       "    </tr>\n",
       "    <tr>\n",
       "      <th>156</th>\n",
       "      <td>NaN</td>\n",
       "      <td>NaN</td>\n",
       "      <td>NaN</td>\n",
       "      <td>NaN</td>\n",
       "      <td>NaN</td>\n",
       "      <td>NaN</td>\n",
       "      <td>NaN</td>\n",
       "      <td>NaN</td>\n",
       "      <td>NaN</td>\n",
       "    </tr>\n",
       "  </tbody>\n",
       "</table>\n",
       "</div>"
      ],
      "text/plain": [
       "     Price  Bedroom  Space  Room   Lot    Tax  Bathroom  Garage  Condition\n",
       "152   44.0      3.0  820.0   5.0  27.0    NaN       1.0     0.0        1.0\n",
       "153   43.0      2.0  593.0   4.0  30.0  465.0       2.0     1.0        0.0\n",
       "154   53.0      3.0  716.0   6.0  30.0  585.0       1.0     2.0        1.0\n",
       "155   62.0      4.0  951.0   7.0  30.0  895.0       2.0     1.0        0.0\n",
       "156    NaN      NaN    NaN   NaN   NaN    NaN       NaN     NaN        NaN"
      ]
     },
     "execution_count": 4,
     "metadata": {},
     "output_type": "execute_result"
    }
   ],
   "source": [
    "re.tail()\n"
   ]
  },
  {
   "cell_type": "code",
   "execution_count": 5,
   "id": "4de82d11",
   "metadata": {
    "scrolled": true
   },
   "outputs": [
    {
     "name": "stdout",
     "output_type": "stream",
     "text": [
      "<class 'pandas.core.frame.DataFrame'>\n",
      "RangeIndex: 157 entries, 0 to 156\n",
      "Data columns (total 9 columns):\n",
      " #   Column     Non-Null Count  Dtype  \n",
      "---  ------     --------------  -----  \n",
      " 0   Price      156 non-null    float64\n",
      " 1   Bedroom    156 non-null    float64\n",
      " 2   Space      146 non-null    float64\n",
      " 3   Room       156 non-null    float64\n",
      " 4   Lot        146 non-null    float64\n",
      " 5   Tax        147 non-null    float64\n",
      " 6   Bathroom   156 non-null    float64\n",
      " 7   Garage     156 non-null    float64\n",
      " 8   Condition  156 non-null    float64\n",
      "dtypes: float64(9)\n",
      "memory usage: 11.2 KB\n"
     ]
    }
   ],
   "source": [
    "re.info()"
   ]
  },
  {
   "cell_type": "code",
   "execution_count": 6,
   "id": "22bf4094",
   "metadata": {},
   "outputs": [
    {
     "data": {
      "text/plain": [
       "Price         1\n",
       "Bedroom       1\n",
       "Space        11\n",
       "Room          1\n",
       "Lot          11\n",
       "Tax          10\n",
       "Bathroom      1\n",
       "Garage        1\n",
       "Condition     1\n",
       "dtype: int64"
      ]
     },
     "execution_count": 6,
     "metadata": {},
     "output_type": "execute_result"
    }
   ],
   "source": [
    "pd.isnull(re).sum()"
   ]
  },
  {
   "cell_type": "code",
   "execution_count": 7,
   "id": "411152a6",
   "metadata": {},
   "outputs": [
    {
     "data": {
      "text/plain": [
       "(157, 9)"
      ]
     },
     "execution_count": 7,
     "metadata": {},
     "output_type": "execute_result"
    }
   ],
   "source": [
    "re.shape\n"
   ]
  },
  {
   "cell_type": "code",
   "execution_count": 8,
   "id": "067fa18e",
   "metadata": {},
   "outputs": [],
   "source": [
    "re.dropna(inplace=True)"
   ]
  },
  {
   "cell_type": "code",
   "execution_count": 9,
   "id": "9e1ba3ad",
   "metadata": {},
   "outputs": [
    {
     "data": {
      "text/plain": [
       "Price        0\n",
       "Bedroom      0\n",
       "Space        0\n",
       "Room         0\n",
       "Lot          0\n",
       "Tax          0\n",
       "Bathroom     0\n",
       "Garage       0\n",
       "Condition    0\n",
       "dtype: int64"
      ]
     },
     "execution_count": 9,
     "metadata": {},
     "output_type": "execute_result"
    }
   ],
   "source": [
    "pd.isnull(re).sum()"
   ]
  },
  {
   "cell_type": "code",
   "execution_count": 10,
   "id": "a44a1892",
   "metadata": {},
   "outputs": [
    {
     "data": {
      "text/plain": [
       "(128, 9)"
      ]
     },
     "execution_count": 10,
     "metadata": {},
     "output_type": "execute_result"
    }
   ],
   "source": [
    "re.shape"
   ]
  },
  {
   "cell_type": "code",
   "execution_count": 11,
   "id": "8b662f33",
   "metadata": {
    "scrolled": true
   },
   "outputs": [
    {
     "name": "stdout",
     "output_type": "stream",
     "text": [
      "<class 'pandas.core.frame.DataFrame'>\n",
      "Int64Index: 128 entries, 0 to 155\n",
      "Data columns (total 9 columns):\n",
      " #   Column     Non-Null Count  Dtype  \n",
      "---  ------     --------------  -----  \n",
      " 0   Price      128 non-null    float64\n",
      " 1   Bedroom    128 non-null    float64\n",
      " 2   Space      128 non-null    float64\n",
      " 3   Room       128 non-null    float64\n",
      " 4   Lot        128 non-null    float64\n",
      " 5   Tax        128 non-null    float64\n",
      " 6   Bathroom   128 non-null    float64\n",
      " 7   Garage     128 non-null    float64\n",
      " 8   Condition  128 non-null    float64\n",
      "dtypes: float64(9)\n",
      "memory usage: 10.0 KB\n"
     ]
    }
   ],
   "source": [
    "re.info()"
   ]
  },
  {
   "cell_type": "code",
   "execution_count": null,
   "id": "9749eac1",
   "metadata": {},
   "outputs": [],
   "source": [
    "import numpy as np"
   ]
  },
  {
   "cell_type": "code",
   "execution_count": 40,
   "id": "eb6356b7",
   "metadata": {},
   "outputs": [
    {
     "data": {
      "text/plain": [
       "(128, 2)"
      ]
     },
     "execution_count": 40,
     "metadata": {},
     "output_type": "execute_result"
    }
   ],
   "source": [
    "x= re[['Space', 'Tax'] ].values\n",
    "y = re['Price'].values\n",
    "x.shape"
   ]
  },
  {
   "cell_type": "code",
   "execution_count": 58,
   "id": "f2aa3462",
   "metadata": {},
   "outputs": [
    {
     "data": {
      "text/plain": [
       "array([[9.670e+02, 0.000e+00],\n",
       "       [8.150e+02, 1.000e+00],\n",
       "       [9.000e+02, 0.000e+00],\n",
       "       [1.007e+03, 0.000e+00],\n",
       "       [1.100e+03, 0.000e+00],\n",
       "       [8.970e+02, 0.000e+00],\n",
       "       [2.261e+03, 0.000e+00],\n",
       "       [2.104e+03, 1.000e+00],\n",
       "       [2.240e+03, 0.000e+00],\n",
       "       [6.410e+02, 0.000e+00],\n",
       "       [8.620e+02, 0.000e+00],\n",
       "       [1.043e+03, 0.000e+00],\n",
       "       [1.325e+03, 0.000e+00],\n",
       "       [7.820e+02, 0.000e+00],\n",
       "       [1.126e+03, 1.000e+00],\n",
       "       [9.290e+02, 0.000e+00],\n",
       "       [1.137e+03, 0.000e+00],\n",
       "       [7.430e+02, 0.000e+00],\n",
       "       [8.030e+02, 1.000e+00],\n",
       "       [6.960e+02, 0.000e+00],\n",
       "       [6.910e+02, 1.000e+00],\n",
       "       [1.023e+03, 0.000e+00],\n",
       "       [9.640e+02, 0.000e+00],\n",
       "       [7.990e+02, 1.000e+00],\n",
       "       [9.430e+02, 0.000e+00],\n",
       "       [1.041e+03, 0.000e+00],\n",
       "       [1.124e+03, 0.000e+00],\n",
       "       [8.550e+02, 0.000e+00],\n",
       "       [2.230e+03, 0.000e+00],\n",
       "       [1.299e+03, 0.000e+00],\n",
       "       [2.173e+03, 1.000e+00],\n",
       "       [2.278e+03, 0.000e+00],\n",
       "       [5.830e+02, 0.000e+00],\n",
       "       [8.740e+02, 0.000e+00],\n",
       "       [1.053e+03, 0.000e+00],\n",
       "       [1.255e+03, 0.000e+00],\n",
       "       [7.850e+02, 0.000e+00],\n",
       "       [1.104e+03, 1.000e+00],\n",
       "       [1.250e+03, 0.000e+00],\n",
       "       [8.980e+02, 0.000e+00],\n",
       "       [1.142e+03, 0.000e+00],\n",
       "       [8.120e+02, 0.000e+00],\n",
       "       [5.390e+02, 0.000e+00],\n",
       "       [7.580e+02, 1.000e+00],\n",
       "       [6.360e+02, 1.000e+00],\n",
       "       [1.053e+03, 0.000e+00],\n",
       "       [8.280e+02, 1.000e+00],\n",
       "       [8.390e+02, 0.000e+00],\n",
       "       [1.049e+03, 0.000e+00],\n",
       "       [8.800e+02, 0.000e+00],\n",
       "       [1.458e+03, 1.000e+00],\n",
       "       [2.191e+03, 0.000e+00],\n",
       "       [1.233e+03, 0.000e+00],\n",
       "       [2.171e+03, 1.000e+00],\n",
       "       [2.295e+03, 0.000e+00],\n",
       "       [5.810e+02, 0.000e+00],\n",
       "       [9.240e+02, 0.000e+00],\n",
       "       [1.021e+03, 0.000e+00],\n",
       "       [1.379e+03, 0.000e+00],\n",
       "       [7.150e+02, 0.000e+00],\n",
       "       [1.243e+03, 0.000e+00],\n",
       "       [9.070e+02, 0.000e+00],\n",
       "       [1.095e+03, 0.000e+00],\n",
       "       [7.010e+02, 0.000e+00],\n",
       "       [8.430e+02, 1.000e+00],\n",
       "       [6.730e+02, 1.000e+00],\n",
       "       [9.630e+02, 0.000e+00],\n",
       "       [9.440e+02, 0.000e+00],\n",
       "       [9.390e+02, 0.000e+00],\n",
       "       [1.035e+03, 0.000e+00],\n",
       "       [1.080e+03, 0.000e+00],\n",
       "       [9.270e+02, 0.000e+00],\n",
       "       [1.370e+03, 1.000e+00],\n",
       "       [1.278e+03, 0.000e+00],\n",
       "       [2.045e+03, 1.000e+00],\n",
       "       [2.228e+03, 0.000e+00],\n",
       "       [6.760e+02, 0.000e+00],\n",
       "       [8.610e+02, 0.000e+00],\n",
       "       [1.040e+03, 0.000e+00],\n",
       "       [1.382e+03, 0.000e+00],\n",
       "       [8.480e+02, 0.000e+00],\n",
       "       [1.133e+03, 1.000e+00],\n",
       "       [9.010e+02, 0.000e+00],\n",
       "       [1.087e+03, 0.000e+00],\n",
       "       [7.770e+02, 0.000e+00],\n",
       "       [6.430e+02, 0.000e+00],\n",
       "       [8.560e+02, 1.000e+00],\n",
       "       [7.660e+02, 0.000e+00],\n",
       "       [7.140e+02, 1.000e+00],\n",
       "       [9.910e+02, 0.000e+00],\n",
       "       [9.780e+02, 0.000e+00],\n",
       "       [7.290e+02, 1.000e+00],\n",
       "       [9.420e+02, 0.000e+00],\n",
       "       [1.022e+03, 0.000e+00],\n",
       "       [1.178e+03, 0.000e+00],\n",
       "       [8.600e+02, 0.000e+00],\n",
       "       [1.429e+03, 1.000e+00],\n",
       "       [2.287e+03, 0.000e+00],\n",
       "       [2.170e+03, 1.000e+00],\n",
       "       [2.293e+03, 0.000e+00],\n",
       "       [5.900e+02, 0.000e+00],\n",
       "       [9.140e+02, 0.000e+00],\n",
       "       [1.053e+03, 0.000e+00],\n",
       "       [1.198e+03, 0.000e+00],\n",
       "       [7.220e+02, 0.000e+00],\n",
       "       [1.107e+03, 1.000e+00],\n",
       "       [9.330e+02, 0.000e+00],\n",
       "       [1.204e+03, 0.000e+00],\n",
       "       [7.440e+02, 0.000e+00],\n",
       "       [5.630e+02, 0.000e+00],\n",
       "       [7.580e+02, 1.000e+00],\n",
       "       [8.590e+02, 1.000e+00],\n",
       "       [8.280e+02, 0.000e+00],\n",
       "       [1.012e+03, 0.000e+00],\n",
       "       [8.590e+02, 0.000e+00],\n",
       "       [2.196e+03, 0.000e+00],\n",
       "       [1.250e+03, 0.000e+00],\n",
       "       [2.240e+03, 1.000e+00],\n",
       "       [2.277e+03, 0.000e+00],\n",
       "       [5.840e+02, 0.000e+00],\n",
       "       [1.438e+03, 0.000e+00],\n",
       "       [7.100e+02, 0.000e+00],\n",
       "       [1.114e+03, 1.000e+00],\n",
       "       [1.065e+03, 0.000e+00],\n",
       "       [5.850e+02, 0.000e+00],\n",
       "       [5.930e+02, 0.000e+00],\n",
       "       [7.160e+02, 1.000e+00],\n",
       "       [9.510e+02, 0.000e+00]])"
      ]
     },
     "execution_count": 58,
     "metadata": {},
     "output_type": "execute_result"
    }
   ],
   "source": [
    "x = x.reshape(-1,2)\n",
    "# x.shape\n",
    "x"
   ]
  },
  {
   "cell_type": "code",
   "execution_count": 23,
   "id": "a54930fd",
   "metadata": {},
   "outputs": [],
   "source": [
    "from sklearn.model_selection import train_test_split"
   ]
  },
  {
   "cell_type": "code",
   "execution_count": 53,
   "id": "8dd769b9",
   "metadata": {},
   "outputs": [],
   "source": [
    "x_train,x_test,y_train,y_test =train_test_split(x,y,test_size=0.2,random_state =44)\n"
   ]
  },
  {
   "cell_type": "code",
   "execution_count": 49,
   "id": "4f6051e4",
   "metadata": {},
   "outputs": [],
   "source": [
    "from sklearn.linear_model import LinearRegression"
   ]
  },
  {
   "cell_type": "code",
   "execution_count": 54,
   "id": "f71060a2",
   "metadata": {},
   "outputs": [
    {
     "data": {
      "text/plain": [
       "LinearRegression()"
      ]
     },
     "execution_count": 54,
     "metadata": {},
     "output_type": "execute_result"
    }
   ],
   "source": [
    "model = LinearRegression()\n",
    "model.fit(x_train,y_train)"
   ]
  },
  {
   "cell_type": "code",
   "execution_count": 55,
   "id": "c326c00f",
   "metadata": {},
   "outputs": [],
   "source": [
    "ypred = model.predict(x_test)"
   ]
  },
  {
   "cell_type": "code",
   "execution_count": 56,
   "id": "958031a8",
   "metadata": {},
   "outputs": [
    {
     "name": "stdout",
     "output_type": "stream",
     "text": [
      "0.611912849724459\n"
     ]
    }
   ],
   "source": [
    "efficiency = model.score(x_test,y_test)\n",
    "print(efficiency)"
   ]
  },
  {
   "cell_type": "code",
   "execution_count": 59,
   "id": "d7845baa",
   "metadata": {},
   "outputs": [],
   "source": [
    "import matplotlib.pyplot as plt"
   ]
  },
  {
   "cell_type": "code",
   "execution_count": 73,
   "id": "17add760",
   "metadata": {},
   "outputs": [
    {
     "data": {
      "image/png": "[encoded data removed]",
      "text/plain": [
       "<Figure size 640x480 with 2 Axes>"
      ]
     },
     "metadata": {},
     "output_type": "display_data"
    }
   ],
   "source": [
    "plt.scatter(re['Space'], re['Tax'],c=re['Price'], cmap='viridis' )\n",
    "plt.colorbar(label='Price(in lakhs)')\n",
    "plt.xlabel('Space')\n",
    "plt.ylabel('Tax')\n",
    "plt.title('House Price(in lakhs)')\n",
    "# plt.plot(x_test,y_pred,color='red')\n",
    "plt.show()\n",
    "\n"
   ]
  },
  {
   "cell_type": "code",
   "execution_count": null,
   "id": "c1f5972b",
   "metadata": {},
   "outputs": [],
   "source": []
  }
 ],
 "metadata": {
  "kernelspec": {
   "display_name": "Python 3 (ipykernel)",
   "language": "python",
   "name": "python3"
  },
  "language_info": {
   "codemirror_mode": {
    "name": "ipython",
    "version": 3
   },
   "file_extension": ".py",
   "mimetype": "text/x-python",
   "name": "python",
   "nbconvert_exporter": "python",
   "pygments_lexer": "ipython3",
   "version": "3.9.13"
  }
 },
 "nbformat": 4,
 "nbformat_minor": 5
}
